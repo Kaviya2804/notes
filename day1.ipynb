{
 "cells": [
  {
   "cell_type": "code",
   "execution_count": 1,
   "id": "fa8e044a-addc-4c80-ae79-3ebab1e82c64",
   "metadata": {},
   "outputs": [
    {
     "ename": "NameError",
     "evalue": "name 'kaviya' is not defined",
     "output_type": "error",
     "traceback": [
      "\u001b[1;31m---------------------------------------------------------------------------\u001b[0m",
      "\u001b[1;31mNameError\u001b[0m                                 Traceback (most recent call last)",
      "Cell \u001b[1;32mIn[1], line 1\u001b[0m\n\u001b[1;32m----> 1\u001b[0m num1\u001b[38;5;241m=\u001b[39m\u001b[43mkaviya\u001b[49m\n",
      "\u001b[1;31mNameError\u001b[0m: name 'kaviya' is not defined"
     ]
    }
   ],
   "source": [
    "num1=kaviya\n"
   ]
  },
  {
   "cell_type": "code",
   "execution_count": 2,
   "id": "49039250-5f0d-4fb6-ad96-2c523c148cc2",
   "metadata": {},
   "outputs": [],
   "source": [
    "num1=\"kaviya\""
   ]
  },
  {
   "cell_type": "code",
   "execution_count": 3,
   "id": "79bfcf07-69e7-435c-ab9f-a17b9feefe1e",
   "metadata": {},
   "outputs": [
    {
     "ename": "SyntaxError",
     "evalue": "invalid syntax (748458903.py, line 1)",
     "output_type": "error",
     "traceback": [
      "\u001b[1;36m  Cell \u001b[1;32mIn[3], line 1\u001b[1;36m\u001b[0m\n\u001b[1;33m    &name=devi\u001b[0m\n\u001b[1;37m    ^\u001b[0m\n\u001b[1;31mSyntaxError\u001b[0m\u001b[1;31m:\u001b[0m invalid syntax\n"
     ]
    }
   ],
   "source": [
    "&name=devi"
   ]
  },
  {
   "cell_type": "code",
   "execution_count": 4,
   "id": "27374b7d-4e1c-4159-ace8-04bf40c02c8a",
   "metadata": {},
   "outputs": [
    {
     "ename": "SyntaxError",
     "evalue": "invalid syntax (1215703868.py, line 1)",
     "output_type": "error",
     "traceback": [
      "\u001b[1;36m  Cell \u001b[1;32mIn[4], line 1\u001b[1;36m\u001b[0m\n\u001b[1;33m    &name=\"devi\"\u001b[0m\n\u001b[1;37m    ^\u001b[0m\n\u001b[1;31mSyntaxError\u001b[0m\u001b[1;31m:\u001b[0m invalid syntax\n"
     ]
    }
   ],
   "source": [
    "&name=\"devi\"\n"
   ]
  },
  {
   "cell_type": "code",
   "execution_count": 5,
   "id": "b543c8ca-aeb0-4fa9-813c-f8d5b01cf902",
   "metadata": {},
   "outputs": [],
   "source": [
    "num1=\"kaviya\""
   ]
  },
  {
   "cell_type": "code",
   "execution_count": 6,
   "id": "55d91c7c-c152-4fbc-b120-3bf0950c7fcf",
   "metadata": {},
   "outputs": [
    {
     "name": "stdout",
     "output_type": "stream",
     "text": [
      "name\n"
     ]
    }
   ],
   "source": [
    "print(\"name\")"
   ]
  },
  {
   "cell_type": "code",
   "execution_count": 7,
   "id": "5e0f7da2-64b7-4a25-beeb-2ba9a3ea5582",
   "metadata": {},
   "outputs": [
    {
     "name": "stdout",
     "output_type": "stream",
     "text": [
      "name: kaviya\n"
     ]
    }
   ],
   "source": [
    "print(\"name:\",num1)\n"
   ]
  },
  {
   "cell_type": "code",
   "execution_count": 8,
   "id": "7512d66f-1641-4e8f-8bc6-98f3c355960a",
   "metadata": {},
   "outputs": [
    {
     "ename": "SyntaxError",
     "evalue": "starred assignment target must be in a list or tuple (3096193784.py, line 1)",
     "output_type": "error",
     "traceback": [
      "\u001b[1;36m  Cell \u001b[1;32mIn[8], line 1\u001b[1;36m\u001b[0m\n\u001b[1;33m    *name=\"kaviya\"\u001b[0m\n\u001b[1;37m    ^\u001b[0m\n\u001b[1;31mSyntaxError\u001b[0m\u001b[1;31m:\u001b[0m starred assignment target must be in a list or tuple\n"
     ]
    }
   ],
   "source": [
    "*name=\"kaviya\""
   ]
  },
  {
   "cell_type": "code",
   "execution_count": 9,
   "id": "5fe20be0-bf3e-47da-9627-dc2999f189eb",
   "metadata": {},
   "outputs": [],
   "source": [
    "name=123"
   ]
  },
  {
   "cell_type": "code",
   "execution_count": 10,
   "id": "9291842b-b948-4fd5-9d55-de45d4a1dccb",
   "metadata": {},
   "outputs": [
    {
     "name": "stdout",
     "output_type": "stream",
     "text": [
      "number: 123\n"
     ]
    }
   ],
   "source": [
    "print(\"number:\",name)"
   ]
  },
  {
   "cell_type": "code",
   "execution_count": 11,
   "id": "096a71bd-52fb-4a0b-84b6-b7f917324c31",
   "metadata": {},
   "outputs": [
    {
     "ename": "SyntaxError",
     "evalue": "invalid syntax (2009340801.py, line 1)",
     "output_type": "error",
     "traceback": [
      "\u001b[1;36m  Cell \u001b[1;32mIn[11], line 1\u001b[1;36m\u001b[0m\n\u001b[1;33m    num=$12\"\u001b[0m\n\u001b[1;37m        ^\u001b[0m\n\u001b[1;31mSyntaxError\u001b[0m\u001b[1;31m:\u001b[0m invalid syntax\n"
     ]
    }
   ],
   "source": [
    "num=$12\"\n"
   ]
  },
  {
   "cell_type": "code",
   "execution_count": 12,
   "id": "b753bc04-5277-4d75-9345-534416b8a685",
   "metadata": {},
   "outputs": [],
   "source": [
    "num=\"$21\""
   ]
  },
  {
   "cell_type": "code",
   "execution_count": 13,
   "id": "185e0a0f-a458-4612-a672-f789dcbdbb9b",
   "metadata": {},
   "outputs": [
    {
     "name": "stdout",
     "output_type": "stream",
     "text": [
      "number: $21\n"
     ]
    }
   ],
   "source": [
    "print(\"number:\",num)"
   ]
  },
  {
   "cell_type": "code",
   "execution_count": 14,
   "id": "3a792b6d-4130-4cce-8540-c5e34eba9539",
   "metadata": {},
   "outputs": [
    {
     "ename": "SyntaxError",
     "evalue": "invalid syntax (2796937891.py, line 1)",
     "output_type": "error",
     "traceback": [
      "\u001b[1;36m  Cell \u001b[1;32mIn[14], line 1\u001b[1;36m\u001b[0m\n\u001b[1;33m    1a=11\u001b[0m\n\u001b[1;37m     ^\u001b[0m\n\u001b[1;31mSyntaxError\u001b[0m\u001b[1;31m:\u001b[0m invalid syntax\n"
     ]
    }
   ],
   "source": [
    "1a=11"
   ]
  },
  {
   "cell_type": "code",
   "execution_count": 15,
   "id": "561429c4-6679-427b-9a30-e8c5a9acd767",
   "metadata": {},
   "outputs": [
    {
     "ename": "SyntaxError",
     "evalue": "cannot assign to operator (3440990122.py, line 1)",
     "output_type": "error",
     "traceback": [
      "\u001b[1;36m  Cell \u001b[1;32mIn[15], line 1\u001b[1;36m\u001b[0m\n\u001b[1;33m    a-1=11\u001b[0m\n\u001b[1;37m    ^\u001b[0m\n\u001b[1;31mSyntaxError\u001b[0m\u001b[1;31m:\u001b[0m cannot assign to operator\n"
     ]
    }
   ],
   "source": [
    "a-1=11"
   ]
  },
  {
   "cell_type": "code",
   "execution_count": 16,
   "id": "9538e3d9-4a2d-44b0-9b53-26b2af2c0433",
   "metadata": {},
   "outputs": [],
   "source": [
    "a_1=11"
   ]
  },
  {
   "cell_type": "code",
   "execution_count": 17,
   "id": "7aa4ae59-74f8-40d3-ae91-f05c34079270",
   "metadata": {},
   "outputs": [],
   "source": [
    "_a=11"
   ]
  },
  {
   "cell_type": "code",
   "execution_count": null,
   "id": "e822149f-af4d-42f1-8d7b-9b6e1bb2c458",
   "metadata": {},
   "outputs": [],
   "source": []
  }
 ],
 "metadata": {
  "kernelspec": {
   "display_name": "Python 3 (ipykernel)",
   "language": "python",
   "name": "python3"
  },
  "language_info": {
   "codemirror_mode": {
    "name": "ipython",
    "version": 3
   },
   "file_extension": ".py",
   "mimetype": "text/x-python",
   "name": "python",
   "nbconvert_exporter": "python",
   "pygments_lexer": "ipython3",
   "version": "3.9.19"
  }
 },
 "nbformat": 4,
 "nbformat_minor": 5
}
