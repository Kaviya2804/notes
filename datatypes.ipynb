{
 "cells": [
  {
   "cell_type": "markdown",
   "id": "d1089126-f571-42ee-aeef-206263ed143f",
   "metadata": {},
   "source": [
    "# Data Types in python\n",
    "1. Numeric - int,Float,complex\n",
    "2. String.[string/character].- str\n",
    "3. Sequence - List,Tuple,Range,Array\n",
    "4. Mapping - Dictionary\n",
    "5. Set - Set,Frozen set\n",
    "6. Boolean - bool\n",
    "7. Binary - Byte,Byte array,Memory view"
   ]
  },
  {
   "cell_type": "code",
   "execution_count": 1,
   "id": "13ceb819-6e1d-49af-921e-541114b2b1c3",
   "metadata": {},
   "outputs": [],
   "source": [
    "    # Numberic\n",
    "Reg_no=173"
   ]
  },
  {
   "cell_type": "code",
   "execution_count": 2,
   "id": "05e7d214-a412-4e64-9dc4-715fa9acc1d1",
   "metadata": {},
   "outputs": [
    {
     "data": {
      "text/plain": [
       "int"
      ]
     },
     "execution_count": 2,
     "metadata": {},
     "output_type": "execute_result"
    }
   ],
   "source": [
    "type(Reg_no)"
   ]
  },
  {
   "cell_type": "code",
   "execution_count": 3,
   "id": "d19435b3-9e4b-4a53-8da3-5224d430dff4",
   "metadata": {},
   "outputs": [],
   "source": [
    "# Numeric\n",
    "Reg_no=200.2\n"
   ]
  },
  {
   "cell_type": "code",
   "execution_count": 4,
   "id": "c8d33444-9a23-49e5-be9f-459edc737c4e",
   "metadata": {},
   "outputs": [
    {
     "data": {
      "text/plain": [
       "float"
      ]
     },
     "execution_count": 4,
     "metadata": {},
     "output_type": "execute_result"
    }
   ],
   "source": [
    "type(Reg_no)"
   ]
  },
  {
   "cell_type": "code",
   "execution_count": 5,
   "id": "3626d320-d4df-4361-8718-3113f87ad9b7",
   "metadata": {},
   "outputs": [],
   "source": [
    "comp=2+1j"
   ]
  },
  {
   "cell_type": "code",
   "execution_count": 6,
   "id": "c329c1c8-cd07-4370-a849-72b4724c8c20",
   "metadata": {},
   "outputs": [
    {
     "data": {
      "text/plain": [
       "complex"
      ]
     },
     "execution_count": 6,
     "metadata": {},
     "output_type": "execute_result"
    }
   ],
   "source": [
    "type(comp)"
   ]
  },
  {
   "cell_type": "code",
   "execution_count": 10,
   "id": "6d10a099-c9fd-469d-af59-02e96a948ddc",
   "metadata": {},
   "outputs": [],
   "source": [
    "# Sting\n",
    "name=\"kaviya\"\n"
   ]
  },
  {
   "cell_type": "code",
   "execution_count": 9,
   "id": "86236e07-ed9b-4de6-b5a5-0c6dcf25f184",
   "metadata": {},
   "outputs": [
    {
     "data": {
      "text/plain": [
       "str"
      ]
     },
     "execution_count": 9,
     "metadata": {},
     "output_type": "execute_result"
    }
   ],
   "source": [
    "type(name)"
   ]
  },
  {
   "cell_type": "code",
   "execution_count": 11,
   "id": "a2bfd982-201d-407f-95ff-601d5de7f29e",
   "metadata": {},
   "outputs": [],
   "source": [
    "# Sequence\n",
    "lis=[1,2,'A',2+7j]\n",
    "\n"
   ]
  },
  {
   "cell_type": "code",
   "execution_count": 12,
   "id": "2e951577-68f2-4378-bb70-599ddd2b6b39",
   "metadata": {},
   "outputs": [
    {
     "data": {
      "text/plain": [
       "list"
      ]
     },
     "execution_count": 12,
     "metadata": {},
     "output_type": "execute_result"
    }
   ],
   "source": [
    "type(lis)"
   ]
  },
  {
   "cell_type": "markdown",
   "id": "21ae257c-0737-4aa9-9287-d3753f5af247",
   "metadata": {},
   "source": [
    "# characteristics of list\n",
    "1.list can hold multiple data type.\n",
    "2.list are mutable(pop,remove,append)\n",
    "3. list can hold another list\n"
   ]
  },
  {
   "cell_type": "code",
   "execution_count": 5,
   "id": "75a8013e-4602-4cf6-ae2a-78e69f5b2b2f",
   "metadata": {},
   "outputs": [],
   "source": [
    "List=['m',10,'PYTHON',10+2j,[1,2,3,]]\n"
   ]
  },
  {
   "cell_type": "code",
   "execution_count": 2,
   "id": "69bb6c86-8797-44a2-8bb8-7e5e7e49d9c9",
   "metadata": {},
   "outputs": [
    {
     "data": {
      "text/plain": [
       "4"
      ]
     },
     "execution_count": 2,
     "metadata": {},
     "output_type": "execute_result"
    }
   ],
   "source": [
    "len(List)"
   ]
  },
  {
   "cell_type": "code",
   "execution_count": 6,
   "id": "9a460fff-0695-4255-ae38-1f596690cea7",
   "metadata": {},
   "outputs": [
    {
     "data": {
      "text/plain": [
       "'m'"
      ]
     },
     "execution_count": 6,
     "metadata": {},
     "output_type": "execute_result"
    }
   ],
   "source": [
    "List[0]"
   ]
  },
  {
   "cell_type": "code",
   "execution_count": 4,
   "id": "5513dc28-08ac-4f17-951b-7556c7ed4834",
   "metadata": {},
   "outputs": [
    {
     "data": {
      "text/plain": [
       "'PYTHON'"
      ]
     },
     "execution_count": 4,
     "metadata": {},
     "output_type": "execute_result"
    }
   ],
   "source": [
    "List[2]"
   ]
  },
  {
   "cell_type": "code",
   "execution_count": 9,
   "id": "debccbe2-ec2f-48be-8f73-976a56155346",
   "metadata": {},
   "outputs": [],
   "source": [
    "List[0]='D'"
   ]
  },
  {
   "cell_type": "code",
   "execution_count": 10,
   "id": "1f3c1562-fb44-41a7-afb4-bab7bfe6516c",
   "metadata": {},
   "outputs": [
    {
     "data": {
      "text/plain": [
       "['D', 10, 'PYTHON', (10+2j), [1, 2, 3]]"
      ]
     },
     "execution_count": 10,
     "metadata": {},
     "output_type": "execute_result"
    }
   ],
   "source": [
    "List"
   ]
  },
  {
   "cell_type": "code",
   "execution_count": 12,
   "id": "73e01ebb-6c62-4e21-9c12-8d7695a9fd85",
   "metadata": {},
   "outputs": [
    {
     "data": {
      "text/plain": [
       "[1, 2, 3]"
      ]
     },
     "execution_count": 12,
     "metadata": {},
     "output_type": "execute_result"
    }
   ],
   "source": [
    "List.pop()"
   ]
  },
  {
   "cell_type": "code",
   "execution_count": 13,
   "id": "014fd7bb-76df-489a-8e5b-b124aa97ba23",
   "metadata": {},
   "outputs": [
    {
     "data": {
      "text/plain": [
       "['D', 10, 'PYTHON', (10+2j)]"
      ]
     },
     "execution_count": 13,
     "metadata": {},
     "output_type": "execute_result"
    }
   ],
   "source": [
    "List"
   ]
  },
  {
   "cell_type": "code",
   "execution_count": 14,
   "id": "fea47264-085f-46f1-8185-6bf24963d420",
   "metadata": {},
   "outputs": [],
   "source": [
    "List.remove('PYTHON')"
   ]
  },
  {
   "cell_type": "code",
   "execution_count": 15,
   "id": "01d620c6-814e-4c4a-9532-5f7f1be32591",
   "metadata": {},
   "outputs": [
    {
     "data": {
      "text/plain": [
       "['D', 10, (10+2j)]"
      ]
     },
     "execution_count": 15,
     "metadata": {},
     "output_type": "execute_result"
    }
   ],
   "source": [
    "List"
   ]
  },
  {
   "cell_type": "code",
   "execution_count": 16,
   "id": "07064b45-ea59-4f4b-b118-bab214d969c8",
   "metadata": {},
   "outputs": [],
   "source": [
    "List.append(\"A\")"
   ]
  },
  {
   "cell_type": "code",
   "execution_count": 17,
   "id": "01ab2dce-d2bf-4148-a192-0165e897c253",
   "metadata": {},
   "outputs": [
    {
     "data": {
      "text/plain": [
       "['D', 10, (10+2j), 'A']"
      ]
     },
     "execution_count": 17,
     "metadata": {},
     "output_type": "execute_result"
    }
   ],
   "source": [
    "List"
   ]
  },
  {
   "cell_type": "markdown",
   "id": "877befd1-bba7-44d5-afc2-a92404deb0e6",
   "metadata": {},
   "source": [
    "# Tuple\n",
    "# characteristics of tuple\n",
    "1. Tuple is immutable.\n",
    "2. In tuple we use normal bracket.\n",
    "3. Tuple holds multiple data type"
   ]
  },
  {
   "cell_type": "code",
   "execution_count": 21,
   "id": "e594ac3b-df29-41c4-8488-822445a730fc",
   "metadata": {},
   "outputs": [],
   "source": [
    "d=(171,'kaviya',19)"
   ]
  },
  {
   "cell_type": "code",
   "execution_count": 22,
   "id": "374693be-a503-4af3-b2e3-11f8193bec9f",
   "metadata": {},
   "outputs": [
    {
     "data": {
      "text/plain": [
       "tuple"
      ]
     },
     "execution_count": 22,
     "metadata": {},
     "output_type": "execute_result"
    }
   ],
   "source": [
    "type(d)"
   ]
  },
  {
   "cell_type": "code",
   "execution_count": 23,
   "id": "0cdb3aa2-a6a9-4340-9d0c-8b5f0ae6e159",
   "metadata": {},
   "outputs": [
    {
     "data": {
      "text/plain": [
       "(171, 'kaviya', 19)"
      ]
     },
     "execution_count": 23,
     "metadata": {},
     "output_type": "execute_result"
    }
   ],
   "source": [
    "d"
   ]
  },
  {
   "cell_type": "code",
   "execution_count": 24,
   "id": "1e9b7db0-1a8f-4720-8ea9-85c6e6021211",
   "metadata": {},
   "outputs": [
    {
     "ename": "AttributeError",
     "evalue": "'tuple' object has no attribute 'append'",
     "output_type": "error",
     "traceback": [
      "\u001b[1;31m---------------------------------------------------------------------------\u001b[0m",
      "\u001b[1;31mAttributeError\u001b[0m                            Traceback (most recent call last)",
      "Cell \u001b[1;32mIn[24], line 1\u001b[0m\n\u001b[1;32m----> 1\u001b[0m \u001b[43md\u001b[49m\u001b[38;5;241;43m.\u001b[39;49m\u001b[43mappend\u001b[49m(\u001b[38;5;124m'\u001b[39m\u001b[38;5;124mkaviya\u001b[39m\u001b[38;5;124m'\u001b[39m)\n",
      "\u001b[1;31mAttributeError\u001b[0m: 'tuple' object has no attribute 'append'"
     ]
    }
   ],
   "source": [
    "d.append('kaviya')"
   ]
  },
  {
   "cell_type": "code",
   "execution_count": 25,
   "id": "e70fb28e-57f5-4256-993b-2cd7ce451df6",
   "metadata": {},
   "outputs": [
    {
     "data": {
      "text/plain": [
       "'kaviya'"
      ]
     },
     "execution_count": 25,
     "metadata": {},
     "output_type": "execute_result"
    }
   ],
   "source": [
    "d[1]"
   ]
  },
  {
   "cell_type": "markdown",
   "id": "fd97fd1b-35ae-4a86-a319-921f56cb5ae7",
   "metadata": {},
   "source": [
    "# Range"
   ]
  },
  {
   "cell_type": "code",
   "execution_count": 32,
   "id": "be6f54e2-3d07-4ed0-9dd2-71880e38ae94",
   "metadata": {},
   "outputs": [],
   "source": [
    "B=range(0,11,2)"
   ]
  },
  {
   "cell_type": "code",
   "execution_count": 33,
   "id": "106c9aec-5028-46ac-8e5f-4107d06f31bb",
   "metadata": {},
   "outputs": [
    {
     "data": {
      "text/plain": [
       "range(0, 11, 2)"
      ]
     },
     "execution_count": 33,
     "metadata": {},
     "output_type": "execute_result"
    }
   ],
   "source": [
    "B"
   ]
  },
  {
   "cell_type": "code",
   "execution_count": 34,
   "id": "c4979adf-71f3-4ada-a479-6ea48a4f81ce",
   "metadata": {},
   "outputs": [
    {
     "data": {
      "text/plain": [
       "[0, 2, 4, 6, 8, 10]"
      ]
     },
     "execution_count": 34,
     "metadata": {},
     "output_type": "execute_result"
    }
   ],
   "source": [
    "list(B)"
   ]
  },
  {
   "cell_type": "markdown",
   "id": "b60d6603-cf03-4010-b2c0-3912127d73ec",
   "metadata": {},
   "source": [
    "# Array\n",
    "1. It stores single type of data\n",
    "2. it is mutable"
   ]
  },
  {
   "cell_type": "code",
   "execution_count": 1,
   "id": "4d7ae55c-c63f-4ddf-85ea-a3fb7775b650",
   "metadata": {},
   "outputs": [
    {
     "ename": "SyntaxError",
     "evalue": "invalid syntax (202735117.py, line 1)",
     "output_type": "error",
     "traceback": [
      "\u001b[1;36m  Cell \u001b[1;32mIn[1], line 1\u001b[1;36m\u001b[0m\n\u001b[1;33m    a=array[]\u001b[0m\n\u001b[1;37m            ^\u001b[0m\n\u001b[1;31mSyntaxError\u001b[0m\u001b[1;31m:\u001b[0m invalid syntax\n"
     ]
    }
   ],
   "source": [
    "a=array[]"
   ]
  },
  {
   "cell_type": "code",
   "execution_count": 2,
   "id": "4c77af4f-4fcd-43a1-b15f-311358c21e74",
   "metadata": {},
   "outputs": [],
   "source": [
    "import array"
   ]
  },
  {
   "cell_type": "code",
   "execution_count": 3,
   "id": "865db022-e194-4506-8435-f1b0c65982ba",
   "metadata": {},
   "outputs": [],
   "source": [
    "arr=array.array('i',[10,20,30,40])"
   ]
  },
  {
   "cell_type": "code",
   "execution_count": 4,
   "id": "687865f5-aa14-44c1-9ca7-adff12eb1f93",
   "metadata": {},
   "outputs": [
    {
     "data": {
      "text/plain": [
       "array('i', [10, 20, 30, 40])"
      ]
     },
     "execution_count": 4,
     "metadata": {},
     "output_type": "execute_result"
    }
   ],
   "source": [
    "arr"
   ]
  },
  {
   "cell_type": "code",
   "execution_count": 5,
   "id": "d5497e06-6318-43f9-a088-b5f889b6893b",
   "metadata": {},
   "outputs": [
    {
     "data": {
      "text/plain": [
       "array.array"
      ]
     },
     "execution_count": 5,
     "metadata": {},
     "output_type": "execute_result"
    }
   ],
   "source": [
    "type(arr)"
   ]
  },
  {
   "cell_type": "code",
   "execution_count": 7,
   "id": "4efe8f23-a81f-4508-8b10-b09baef82d03",
   "metadata": {},
   "outputs": [
    {
     "data": {
      "text/plain": [
       "array.array"
      ]
     },
     "execution_count": 7,
     "metadata": {},
     "output_type": "execute_result"
    }
   ],
   "source": [
    "array.array"
   ]
  },
  {
   "cell_type": "markdown",
   "id": "2e5412e7-6872-4e28-93a7-31331e385b0e",
   "metadata": {},
   "source": [
    "arr[3]=200"
   ]
  },
  {
   "cell_type": "code",
   "execution_count": 8,
   "id": "b2d91b8d-b73e-472c-9aec-060495f7b77f",
   "metadata": {},
   "outputs": [
    {
     "data": {
      "text/plain": [
       "array('i', [10, 20, 30, 40])"
      ]
     },
     "execution_count": 8,
     "metadata": {},
     "output_type": "execute_result"
    }
   ],
   "source": [
    "arr"
   ]
  },
  {
   "cell_type": "code",
   "execution_count": 9,
   "id": "7d539185-dc0c-42f6-836b-5993a6ef5d07",
   "metadata": {},
   "outputs": [
    {
     "data": {
      "text/plain": [
       "4"
      ]
     },
     "execution_count": 9,
     "metadata": {},
     "output_type": "execute_result"
    }
   ],
   "source": [
    "len(arr)"
   ]
  },
  {
   "cell_type": "code",
   "execution_count": 10,
   "id": "3af15b1c-a6d5-45ed-8031-65f6db66c822",
   "metadata": {},
   "outputs": [],
   "source": [
    "arr.append(400)"
   ]
  },
  {
   "cell_type": "code",
   "execution_count": 12,
   "id": "6e9d8a53-2d95-4a12-8433-8bb04d2149c1",
   "metadata": {},
   "outputs": [
    {
     "data": {
      "text/plain": [
       "array('i', [10, 20, 30, 40, 400])"
      ]
     },
     "execution_count": 12,
     "metadata": {},
     "output_type": "execute_result"
    }
   ],
   "source": [
    "arr"
   ]
  },
  {
   "cell_type": "code",
   "execution_count": 13,
   "id": "be64468e-3930-4dcf-b8fb-f9ca0bfef90c",
   "metadata": {},
   "outputs": [
    {
     "data": {
      "text/plain": [
       "array('i', [20, 30, 40])"
      ]
     },
     "execution_count": 13,
     "metadata": {},
     "output_type": "execute_result"
    }
   ],
   "source": [
    "arr[1:4]"
   ]
  },
  {
   "cell_type": "code",
   "execution_count": 18,
   "id": "aa84b5a0-412e-498c-9c3a-f21c7a79865f",
   "metadata": {},
   "outputs": [],
   "source": [
    "arr1=[10,20,50,700,500,600,900]"
   ]
  },
  {
   "cell_type": "code",
   "execution_count": 16,
   "id": "fb501243-097c-4033-b7b5-007aefb94e92",
   "metadata": {},
   "outputs": [
    {
     "data": {
      "text/plain": [
       "array('i', [10, 20, 30, 40])"
      ]
     },
     "execution_count": 16,
     "metadata": {},
     "output_type": "execute_result"
    }
   ],
   "source": [
    "arr[0:4]"
   ]
  },
  {
   "cell_type": "code",
   "execution_count": 19,
   "id": "082816b4-0dd0-48da-a54b-756f0eabf4e6",
   "metadata": {},
   "outputs": [
    {
     "data": {
      "text/plain": [
       "[500, 600, 900]"
      ]
     },
     "execution_count": 19,
     "metadata": {},
     "output_type": "execute_result"
    }
   ],
   "source": [
    "arr1[4:8]"
   ]
  },
  {
   "cell_type": "code",
   "execution_count": 20,
   "id": "08754c60-7e87-451e-8ffa-663963ffaa33",
   "metadata": {},
   "outputs": [
    {
     "data": {
      "text/plain": [
       "[500, 600, 900]"
      ]
     },
     "execution_count": 20,
     "metadata": {},
     "output_type": "execute_result"
    }
   ],
   "source": [
    "arr1[4:]"
   ]
  },
  {
   "cell_type": "code",
   "execution_count": 21,
   "id": "ed7a7640-0ae4-463f-b3a7-06cd9819dfea",
   "metadata": {},
   "outputs": [
    {
     "data": {
      "text/plain": [
       "[10, 50, 500, 900]"
      ]
     },
     "execution_count": 21,
     "metadata": {},
     "output_type": "execute_result"
    }
   ],
   "source": [
    "arr1[0::2]"
   ]
  },
  {
   "cell_type": "code",
   "execution_count": 22,
   "id": "8c124046-d7d9-4201-a81a-bd9ef9890c8f",
   "metadata": {},
   "outputs": [
    {
     "data": {
      "text/plain": [
       "[10, 700, 900]"
      ]
     },
     "execution_count": 22,
     "metadata": {},
     "output_type": "execute_result"
    }
   ],
   "source": [
    "arr1[0::3]"
   ]
  },
  {
   "cell_type": "code",
   "execution_count": 23,
   "id": "b3a64984-c0ef-4df5-9173-7948baa716cb",
   "metadata": {},
   "outputs": [
    {
     "data": {
      "text/plain": [
       "[500, 600, 900]"
      ]
     },
     "execution_count": 23,
     "metadata": {},
     "output_type": "execute_result"
    }
   ],
   "source": [
    "arr1[-3:]"
   ]
  },
  {
   "cell_type": "code",
   "execution_count": 24,
   "id": "d47429ae-1195-4c42-8c5c-0e13bd199fa0",
   "metadata": {},
   "outputs": [
    {
     "data": {
      "text/plain": [
       "array('i', [400, 40, 30, 20, 10])"
      ]
     },
     "execution_count": 24,
     "metadata": {},
     "output_type": "execute_result"
    }
   ],
   "source": [
    "arr[::-1]"
   ]
  },
  {
   "cell_type": "code",
   "execution_count": 25,
   "id": "ecce85b4-2746-47eb-8fd4-173ec9543ce2",
   "metadata": {},
   "outputs": [],
   "source": [
    "#list\n",
    "\n"
   ]
  },
  {
   "cell_type": "code",
   "execution_count": 27,
   "id": "7db11ae9-b780-41f2-8bd8-86255232ba73",
   "metadata": {},
   "outputs": [],
   "source": [
    "list1=[10,\"hello\",30.5,True]"
   ]
  },
  {
   "cell_type": "code",
   "execution_count": 29,
   "id": "c144fa0a-3d40-45af-9131-333257d191a6",
   "metadata": {},
   "outputs": [
    {
     "data": {
      "text/plain": [
       "[10, 'hello', 30.5]"
      ]
     },
     "execution_count": 29,
     "metadata": {},
     "output_type": "execute_result"
    }
   ],
   "source": [
    "list1[0:3]"
   ]
  },
  {
   "cell_type": "markdown",
   "id": "5f4ddbb9-dd77-4c39-8aff-58852f861fc6",
   "metadata": {},
   "source": [
    "# set\n",
    "1. it is a unordered data type\n",
    "2. it store any datatype and mutable\n",
    "3. it can not allow duplicate values"
   ]
  },
  {
   "cell_type": "code",
   "execution_count": 31,
   "id": "0395c2f4-c5a3-4ccd-b4db-8ee8ba7c4b24",
   "metadata": {},
   "outputs": [],
   "source": [
    "a1={10,20.5,'true','python'}"
   ]
  },
  {
   "cell_type": "code",
   "execution_count": 33,
   "id": "edbb1f35-3e0c-4cde-ad2b-0119fab94683",
   "metadata": {},
   "outputs": [
    {
     "data": {
      "text/plain": [
       "set"
      ]
     },
     "execution_count": 33,
     "metadata": {},
     "output_type": "execute_result"
    }
   ],
   "source": [
    "type(a1)"
   ]
  },
  {
   "cell_type": "code",
   "execution_count": 34,
   "id": "05799398-0ee7-49c0-8bbd-b079cdcb483d",
   "metadata": {},
   "outputs": [],
   "source": [
    "a1.add(1000)"
   ]
  },
  {
   "cell_type": "code",
   "execution_count": 35,
   "id": "97dc725a-884d-4397-ba91-fc7109ed36ee",
   "metadata": {},
   "outputs": [
    {
     "data": {
      "text/plain": [
       "{10, 1000, 20.5, 'python', 'true'}"
      ]
     },
     "execution_count": 35,
     "metadata": {},
     "output_type": "execute_result"
    }
   ],
   "source": [
    "a1"
   ]
  },
  {
   "cell_type": "code",
   "execution_count": 36,
   "id": "a1378e3e-c257-4d22-abe0-d9ee7b88941a",
   "metadata": {},
   "outputs": [],
   "source": [
    " a1.remove(1000)"
   ]
  },
  {
   "cell_type": "code",
   "execution_count": 37,
   "id": "7325d58c-29fc-46c4-babd-a2d4a6fd9d2c",
   "metadata": {},
   "outputs": [
    {
     "data": {
      "text/plain": [
       "{10, 20.5, 'python', 'true'}"
      ]
     },
     "execution_count": 37,
     "metadata": {},
     "output_type": "execute_result"
    }
   ],
   "source": [
    "a1"
   ]
  },
  {
   "cell_type": "code",
   "execution_count": 38,
   "id": "6fd5dd23-b63e-424f-9c1c-3e4f9f05f615",
   "metadata": {},
   "outputs": [
    {
     "ename": "KeyError",
     "evalue": "1000",
     "output_type": "error",
     "traceback": [
      "\u001b[1;31m---------------------------------------------------------------------------\u001b[0m",
      "\u001b[1;31mKeyError\u001b[0m                                  Traceback (most recent call last)",
      "Cell \u001b[1;32mIn[38], line 1\u001b[0m\n\u001b[1;32m----> 1\u001b[0m \u001b[43ma1\u001b[49m\u001b[38;5;241;43m.\u001b[39;49m\u001b[43mremove\u001b[49m\u001b[43m(\u001b[49m\u001b[38;5;241;43m1000\u001b[39;49m\u001b[43m)\u001b[49m\n",
      "\u001b[1;31mKeyError\u001b[0m: 1000"
     ]
    }
   ],
   "source": [
    "a1.remove(1000)"
   ]
  },
  {
   "cell_type": "code",
   "execution_count": 39,
   "id": "1ecaeb4d-05e8-464e-b4b4-e5db2dcc4d7e",
   "metadata": {},
   "outputs": [],
   "source": [
    "a1.discard(6)"
   ]
  },
  {
   "cell_type": "code",
   "execution_count": 40,
   "id": "35730612-aadb-478f-884f-d59461cff548",
   "metadata": {},
   "outputs": [],
   "source": [
    "b1={100,200,\"welcome\"}"
   ]
  },
  {
   "cell_type": "code",
   "execution_count": 41,
   "id": "8cfdf499-6b81-47e6-9bb7-be2310f128f5",
   "metadata": {},
   "outputs": [],
   "source": [
    "a1.update(b1)"
   ]
  },
  {
   "cell_type": "code",
   "execution_count": 42,
   "id": "1ee3a968-6022-40cc-98d7-a777ecad46da",
   "metadata": {},
   "outputs": [
    {
     "data": {
      "text/plain": [
       "{10, 100, 20.5, 200, 'python', 'true', 'welcome'}"
      ]
     },
     "execution_count": 42,
     "metadata": {},
     "output_type": "execute_result"
    }
   ],
   "source": [
    "a1"
   ]
  },
  {
   "cell_type": "markdown",
   "id": "aac67179-bd85-4ead-82d9-0d2dea4df441",
   "metadata": {},
   "source": [
    "# Dictionaries\n",
    "1. keys are immutable\n",
    "2. values are mutable\n",
    "3. for mapping purpose"
   ]
  },
  {
   "cell_type": "code",
   "execution_count": 1,
   "id": "67c4a3f4-59da-4bef-8a4d-baeaf94be8b7",
   "metadata": {},
   "outputs": [],
   "source": [
    "course1={1:\"java\",2:\"python\",3:\"c\"}"
   ]
  },
  {
   "cell_type": "code",
   "execution_count": 3,
   "id": "240adc55-2ee3-45c4-9655-1fe15602fc45",
   "metadata": {},
   "outputs": [
    {
     "data": {
      "text/plain": [
       "dict"
      ]
     },
     "execution_count": 3,
     "metadata": {},
     "output_type": "execute_result"
    }
   ],
   "source": [
    "type(course1)"
   ]
  },
  {
   "cell_type": "code",
   "execution_count": null,
   "id": "b8ff7564-cc5e-4079-9370-06d4acddf881",
   "metadata": {},
   "outputs": [],
   "source": []
  },
  {
   "cell_type": "code",
   "execution_count": null,
   "id": "fb09c331-3e9e-4647-bc45-ea2138f39081",
   "metadata": {},
   "outputs": [],
   "source": []
  }
 ],
 "metadata": {
  "kernelspec": {
   "display_name": "Python 3 (ipykernel)",
   "language": "python",
   "name": "python3"
  },
  "language_info": {
   "codemirror_mode": {
    "name": "ipython",
    "version": 3
   },
   "file_extension": ".py",
   "mimetype": "text/x-python",
   "name": "python",
   "nbconvert_exporter": "python",
   "pygments_lexer": "ipython3",
   "version": "3.9.19"
  }
 },
 "nbformat": 4,
 "nbformat_minor": 5
}
