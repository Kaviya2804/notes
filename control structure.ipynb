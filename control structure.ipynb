{
 "cells": [
  {
   "cell_type": "markdown",
   "id": "6fb8ab2a-d2f4-4460-ba3e-6ce8b79feca8",
   "metadata": {},
   "source": [
    "# CONDITIONAL STATEMENTS\n",
    "1 if\n",
    "syntax:\n",
    "if<condition>:\n",
    "<stmt>\n",
    "2. if else\n",
    "if<condition>:\n",
    "<stmt_1>\n",
    "else:\n",
    "<stmt_2>\n",
    "3. elif\n",
    "if<condition>:\n",
    "<stmt_1>\n",
    "elif:\n",
    "<stmt>\n",
    "else:\n",
    "<stmt>"
   ]
  },
  {
   "cell_type": "code",
   "execution_count": 12,
   "id": "261b259b-b33a-4142-b01a-00da2e6ac5d8",
   "metadata": {},
   "outputs": [
    {
     "name": "stdin",
     "output_type": "stream",
     "text": [
      "enter the number:  73\n",
      "enter the number:  71\n"
     ]
    }
   ],
   "source": [
    " num1 = input(\"enter the number: \")\n",
    " num2 = input(\"enter the number: \")"
   ]
  },
  {
   "cell_type": "code",
   "execution_count": 6,
   "id": "b40434db-94ed-4872-86aa-04bf244bf4fb",
   "metadata": {},
   "outputs": [
    {
     "data": {
      "text/plain": [
       "str"
      ]
     },
     "execution_count": 6,
     "metadata": {},
     "output_type": "execute_result"
    }
   ],
   "source": [
    "type(num1)\n"
   ]
  },
  {
   "cell_type": "code",
   "execution_count": null,
   "id": "ce669567-a9c4-4caa-92c4-ed3f871ce025",
   "metadata": {},
   "outputs": [],
   "source": []
  },
  {
   "cell_type": "code",
   "execution_count": 15,
   "id": "f5bf5d68-8b97-46c8-aea3-aaf11ba598b9",
   "metadata": {},
   "outputs": [],
   "source": [
    "# if statement\n"
   ]
  },
  {
   "cell_type": "code",
   "execution_count": 29,
   "id": "ccb1f317-073e-4511-8c60-481da6778c55",
   "metadata": {},
   "outputs": [],
   "source": [
    "num1 =17\n",
    "num2 =17"
   ]
  },
  {
   "cell_type": "code",
   "execution_count": 13,
   "id": "147cb2a4-27f9-49ea-9eed-1e69cd3328df",
   "metadata": {},
   "outputs": [
    {
     "name": "stdout",
     "output_type": "stream",
     "text": [
      "the number 73 is greater than 71\n"
     ]
    }
   ],
   "source": [
    "if int(num1)>int(num2):\n",
    "    print(f\"the number {num1} is greater than {num2}\")"
   ]
  },
  {
   "cell_type": "code",
   "execution_count": 25,
   "id": "7d0b83b4-8176-49c1-a738-b38e48bb12a0",
   "metadata": {},
   "outputs": [
    {
     "name": "stdout",
     "output_type": "stream",
     "text": [
      "the number 17 is lesser than 28\n"
     ]
    }
   ],
   "source": [
    "if int(num2)<int(num1):\n",
    "    print(f\"the number {num2} is lesser than {num1}\")"
   ]
  },
  {
   "cell_type": "code",
   "execution_count": 30,
   "id": "f6a03933-3d93-4936-a9ba-c49531618753",
   "metadata": {},
   "outputs": [
    {
     "name": "stdout",
     "output_type": "stream",
     "text": [
      "the number17is equal to 17\n"
     ]
    }
   ],
   "source": [
    "if int(num1)==int(num2):\n",
    "    print(f\"the number{num1}is equal to {num2}\")"
   ]
  },
  {
   "cell_type": "code",
   "execution_count": null,
   "id": "928042e3-2b82-4016-9f80-465fb3ef8a91",
   "metadata": {},
   "outputs": [],
   "source": [
    "# checking divisible by 4 -using if "
   ]
  },
  {
   "cell_type": "code",
   "execution_count": 37,
   "id": "21e19f67-ddbe-4f42-bbf4-5c84519994fb",
   "metadata": {},
   "outputs": [
    {
     "name": "stdout",
     "output_type": "stream",
     "text": [
      "the number1904 is divisible by 4\n"
     ]
    }
   ],
   "source": [
    "if int(a) % 4 ==0:\n",
    "    print(f\"the number{a} is divisible by 4\")"
   ]
  },
  {
   "cell_type": "code",
   "execution_count": 34,
   "id": "cb293c49-4f4b-4813-9c1e-78cb3a3886ce",
   "metadata": {},
   "outputs": [
    {
     "name": "stdin",
     "output_type": "stream",
     "text": [
      "enter the first number: 1904\n",
      "enter the second number: 1209\n"
     ]
    }
   ],
   "source": [
    "a=int(input(\"enter the first number:\"))\n",
    "b=int(input(\"enter the second number:\"))"
   ]
  },
  {
   "cell_type": "markdown",
   "id": "63ba7e5f-524e-486b-9406-fb4a424cb788",
   "metadata": {},
   "source": [
    "# if else statement\n",
    "  check the positive number\n"
   ]
  },
  {
   "cell_type": "code",
   "execution_count": 40,
   "id": "90cd511e-7cf9-45fd-be6b-97bda967e9e8",
   "metadata": {},
   "outputs": [
    {
     "name": "stdin",
     "output_type": "stream",
     "text": [
      "enter the first number: 7\n",
      "enter the second number: -9\n"
     ]
    }
   ],
   "source": [
    "a1=int(input(\"enter the first number:\"))\n",
    "b1=int(input(\"enter the second number:\"))       \n"
   ]
  },
  {
   "cell_type": "code",
   "execution_count": 42,
   "id": "d635ce22-58c1-4904-8c52-38765a74ded2",
   "metadata": {},
   "outputs": [
    {
     "name": "stdout",
     "output_type": "stream",
     "text": [
      "the number 7 is positive\n"
     ]
    }
   ],
   "source": [
    "if int(a1)>= 0:\n",
    "    print(f\"the number {a1} is positive\")\n",
    "else:\n",
    "    print(f\" the {a1} is negative\")\n",
    "\n"
   ]
  },
  {
   "cell_type": "code",
   "execution_count": 43,
   "id": "3ee58ba5-e2e7-401c-81f9-c289329457cf",
   "metadata": {},
   "outputs": [
    {
     "name": "stdout",
     "output_type": "stream",
     "text": [
      "-9 is negative\n"
     ]
    }
   ],
   "source": [
    "if int(b1)>=0:\n",
    "    print(f\"the number {b1} is positive\")\n",
    "else:\n",
    "    print(f\"{b1} is negative\")"
   ]
  },
  {
   "cell_type": "markdown",
   "id": "fdf53ca7-cf25-4e24-8680-3044e4668e94",
   "metadata": {},
   "source": []
  },
  {
   "cell_type": "markdown",
   "id": "956a03e8-3c02-4ed9-bf23-35e762a59a98",
   "metadata": {},
   "source": [
    "# voting"
   ]
  },
  {
   "cell_type": "code",
   "execution_count": 44,
   "id": "0713a892-0f52-4ee1-a1be-3a5939293d13",
   "metadata": {},
   "outputs": [
    {
     "name": "stdin",
     "output_type": "stream",
     "text": [
      "enter your age: 20\n"
     ]
    }
   ],
   "source": [
    "c=int(input(\"enter your age:\"))\n"
   ]
  },
  {
   "cell_type": "code",
   "execution_count": 45,
   "id": "a6cd5740-a624-477c-a03d-ada78a787a73",
   "metadata": {},
   "outputs": [
    {
     "name": "stdout",
     "output_type": "stream",
     "text": [
      " you are eligible to vote\n"
     ]
    }
   ],
   "source": [
    "if int (c)>=18:\n",
    "    print(f\" you are eligible to vote\")\n",
    "else:\n",
    "    print(f\"you are not eligible to vote\")"
   ]
  },
  {
   "cell_type": "markdown",
   "id": "c5ae6a10-0e24-40b3-8f12-55c7cbc490fc",
   "metadata": {},
   "source": [
    "# find odd  or even number"
   ]
  },
  {
   "cell_type": "code",
   "execution_count": 50,
   "id": "c0baef43-157c-495c-8939-c56caed67211",
   "metadata": {},
   "outputs": [
    {
     "name": "stdin",
     "output_type": "stream",
     "text": [
      "enter the number: 3\n"
     ]
    }
   ],
   "source": [
    "d= int(input(\"enter the number:\"))"
   ]
  },
  {
   "cell_type": "code",
   "execution_count": 51,
   "id": "7bcfede5-cf31-457e-a975-448900154ea9",
   "metadata": {},
   "outputs": [
    {
     "name": "stdout",
     "output_type": "stream",
     "text": [
      "the number is odd\n"
     ]
    }
   ],
   "source": [
    "if int(d)%2==0:\n",
    "    print (f\"the number is even\")\n",
    "else:\n",
    "    print(f\"the number is odd\")\n",
    "    "
   ]
  },
  {
   "cell_type": "markdown",
   "id": "18928bc6-e664-4a96-b10f-e38627d0e313",
   "metadata": {},
   "source": [
    "# elif"
   ]
  },
  {
   "cell_type": "code",
   "execution_count": 56,
   "id": "53d1e671-c17f-4451-b499-52d22c9f3e8d",
   "metadata": {},
   "outputs": [
    {
     "name": "stdin",
     "output_type": "stream",
     "text": [
      "enter the number: 0\n"
     ]
    }
   ],
   "source": [
    "e=int (input(\"enter the number:\"))\n"
   ]
  },
  {
   "cell_type": "code",
   "execution_count": 57,
   "id": "6428ae2b-4d81-4089-b963-01d070a4c991",
   "metadata": {},
   "outputs": [
    {
     "name": "stdout",
     "output_type": "stream",
     "text": [
      " the number 0 is zero\n"
     ]
    }
   ],
   "source": [
    "if int(e)>0:\n",
    "    print(f\" the number{e} is positive\")\n",
    "elif int(e)<0:\n",
    "    print(f\" the number {e} is negative\")\n",
    "else:\n",
    "    print(f\" the number {e} is zero\")\n",
    "    \n",
    "    "
   ]
  },
  {
   "cell_type": "code",
   "execution_count": 64,
   "id": "f83a29cb-005b-474a-90ce-dd5237831a27",
   "metadata": {},
   "outputs": [
    {
     "name": "stdin",
     "output_type": "stream",
     "text": [
      "are you suffering from fever(yes/no): yes\n",
      "are you suffering from cold(yes/no): yes\n",
      "are you return from foreign(yes/no): yes\n"
     ]
    }
   ],
   "source": [
    "a=input(\"are you suffering from fever(yes/no):\")\n",
    "b=input(\"are you suffering from cold(yes/no):\")\n",
    "c=input(\"are you return from foreign(yes/no):\")"
   ]
  },
  {
   "cell_type": "code",
   "execution_count": 65,
   "id": "17d5fdf8-e35e-40fc-83b5-87b5524d1c6d",
   "metadata": {},
   "outputs": [
    {
     "name": "stdout",
     "output_type": "stream",
     "text": [
      " you are advised to be in quarantine\n"
     ]
    }
   ],
   "source": [
    "if (a)==\"yes\":\n",
    "    print(f\" you are advised to be in quarantine\")\n",
    "elif (b)==\"yes\":\n",
    "    print(f\" you are advised to be in quarantine\")\n",
    "elif (a and b and c)== \"yes\":\n",
    "    print(f\" you are advised to admit in a hospital\")\n",
    "else:\n",
    "    print(f\"you are advised to take a injection\")"
   ]
  },
  {
   "cell_type": "markdown",
   "id": "75bdf960-4ac3-4afd-929b-451cd6ea9273",
   "metadata": {},
   "source": [
    "# loops\n",
    "two types\n",
    "1. for-definite\n",
    "2. while-indefinite"
   ]
  },
  {
   "cell_type": "markdown",
   "id": "ef8b8b37-c5d7-492a-9e01-bf1fe61cc476",
   "metadata": {},
   "source": [
    "# for loop"
   ]
  },
  {
   "cell_type": "code",
   "execution_count": 1,
   "id": "a88f095b-0b65-4ce4-af8e-524559e9c7d2",
   "metadata": {},
   "outputs": [
    {
     "name": "stdout",
     "output_type": "stream",
     "text": [
      "hello python\n",
      "hello python\n"
     ]
    }
   ],
   "source": [
    "for i in range (0,2):\n",
    "    print(\"hello python\")"
   ]
  },
  {
   "cell_type": "code",
   "execution_count": 2,
   "id": "34d733f7-fc2d-407c-bdaf-274dc109fcdc",
   "metadata": {},
   "outputs": [],
   "source": [
    "numm = [1,2,3,4,5]\n",
    "s=\"pathirana\""
   ]
  },
  {
   "cell_type": "code",
   "execution_count": 3,
   "id": "bbc727b1-ce19-4c7c-985f-007f35598abe",
   "metadata": {},
   "outputs": [
    {
     "name": "stdout",
     "output_type": "stream",
     "text": [
      "1\n",
      "2\n",
      "3\n",
      "4\n",
      "5\n"
     ]
    }
   ],
   "source": [
    "for x in numm:\n",
    "    print(x)\n"
   ]
  },
  {
   "cell_type": "code",
   "execution_count": 4,
   "id": "9461b611-0a4c-4e77-84cf-be2e36068e8e",
   "metadata": {},
   "outputs": [],
   "source": [
    "li=[88,'pathirana',18,'kholi']"
   ]
  },
  {
   "cell_type": "code",
   "execution_count": 5,
   "id": "246c71c6-8818-4289-86a8-b875e3713670",
   "metadata": {},
   "outputs": [
    {
     "name": "stdout",
     "output_type": "stream",
     "text": [
      "88\n",
      "pathirana\n",
      "18\n",
      "kholi\n"
     ]
    }
   ],
   "source": [
    "for y in li:\n",
    "    print(y)"
   ]
  },
  {
   "cell_type": "code",
   "execution_count": 6,
   "id": "0ae89031-9c9d-4c37-82c1-22cd70a2af36",
   "metadata": {},
   "outputs": [
    {
     "ename": "SyntaxError",
     "evalue": "unexpected EOF while parsing (1364945025.py, line 4)",
     "output_type": "error",
     "traceback": [
      "\u001b[1;36m  Cell \u001b[1;32mIn[6], line 4\u001b[1;36m\u001b[0m\n\u001b[1;33m    (\u001b[0m\n\u001b[1;37m     ^\u001b[0m\n\u001b[1;31mSyntaxError\u001b[0m\u001b[1;31m:\u001b[0m unexpected EOF while parsing\n"
     ]
    }
   ],
   "source": [
    "if (li)=='pathirana':\n",
    "    print(\"present in list\")\n",
    "else:\n",
    "    (\n"
   ]
  },
  {
   "cell_type": "code",
   "execution_count": 7,
   "id": "8855390a-c2d4-4e6e-8712-99856623ab32",
   "metadata": {},
   "outputs": [
    {
     "name": "stdout",
     "output_type": "stream",
     "text": [
      "p\n",
      "a\n",
      "t\n",
      "h\n",
      "i\n",
      "r\n",
      "a\n",
      "n\n",
      "a\n"
     ]
    }
   ],
   "source": [
    "for k in s:\n",
    "    print(k)"
   ]
  },
  {
   "cell_type": "code",
   "execution_count": 78,
   "id": "2d91766a-b544-41cb-83ce-ce8b5707b6b8",
   "metadata": {},
   "outputs": [
    {
     "name": "stdout",
     "output_type": "stream",
     "text": [
      "p\n",
      "a\n",
      "t\n",
      "h\n",
      "i\n",
      "r\n",
      "a\n",
      "n\n",
      "a\n"
     ]
    }
   ],
   "source": [
    "for y in li:\n",
    "    if"
   ]
  },
  {
   "cell_type": "code",
   "execution_count": 8,
   "id": "2aa98fde-bdfe-4085-90df-05f59f2a0e03",
   "metadata": {},
   "outputs": [
    {
     "name": "stdout",
     "output_type": "stream",
     "text": [
      "present inlist\n"
     ]
    }
   ],
   "source": [
    "if 'p' in s:\n",
    "    print(\"present inlist\")\n",
    "else:\n",
    "    print(\"not present in list\")"
   ]
  },
  {
   "cell_type": "code",
   "execution_count": 9,
   "id": "8a1a4bb5-0b75-4e57-9f8c-3592787d27f6",
   "metadata": {},
   "outputs": [],
   "source": [
    "v=['s','a','r','a','n']"
   ]
  },
  {
   "cell_type": "code",
   "execution_count": 10,
   "id": "6e64370d-ef15-4e57-9d60-e151c0e6936a",
   "metadata": {},
   "outputs": [
    {
     "name": "stdout",
     "output_type": "stream",
     "text": [
      "not present in list\n"
     ]
    }
   ],
   "source": [
    "if 'k' in v:\n",
    "    print(\"present in list\")\n",
    "else:\n",
    "    print(\"not present in list\")"
   ]
  },
  {
   "cell_type": "code",
   "execution_count": 2,
   "id": "254abdbb-d05c-4066-a821-da22da92b427",
   "metadata": {},
   "outputs": [],
   "source": [
    "g=[1,2,3,4,5,6,7,8,9]"
   ]
  },
  {
   "cell_type": "code",
   "execution_count": 4,
   "id": "424ea8f9-2519-43ba-bf09-3febe610ac8e",
   "metadata": {},
   "outputs": [
    {
     "name": "stdout",
     "output_type": "stream",
     "text": [
      "the number is odd\n",
      "the number is even\n",
      "the number is odd\n",
      "the number is even\n",
      "the number is odd\n",
      "the number is even\n",
      "the number is odd\n",
      "the number is even\n",
      "the number is odd\n"
     ]
    }
   ],
   "source": [
    "for val in g:\n",
    "    if val %2 == 0:\n",
    "        print (f\"the number is even\")\n",
    "    else:\n",
    "       print(f\"the number is odd\")"
   ]
  },
  {
   "cell_type": "markdown",
   "id": "3ee8ca0a-4205-46b8-9ce8-91a417018256",
   "metadata": {},
   "source": [
    "# NESTED FOR LOOP"
   ]
  },
  {
   "cell_type": "code",
   "execution_count": null,
   "id": "1266c3d5-37f0-41ca-b19e-3881ae52f875",
   "metadata": {},
   "outputs": [],
   "source": [
    "for<variable>in<sequence>: #outer loop\n",
    "    <statement1>\n",
    "    for<variables>in<sequence>: #inner loop\n",
    "    <statement2>"
   ]
  },
  {
   "cell_type": "code",
   "execution_count": 8,
   "id": "facb8937-b611-41b4-9174-d714da2a3f8e",
   "metadata": {},
   "outputs": [
    {
     "name": "stdin",
     "output_type": "stream",
     "text": [
      "enter the no of rows 5\n"
     ]
    },
    {
     "name": "stdout",
     "output_type": "stream",
     "text": [
      "* \n",
      "* * \n",
      "* * * \n",
      "* * * * \n",
      "* * * * * \n"
     ]
    }
   ],
   "source": [
    "rows = int(input(\"enter the no of rows\"))\n",
    "num4 = 1\n",
    "\n",
    "for i in range(1, rows+1):\n",
    "    for j in range(1,i+1):\n",
    "        print(\"*\",end = \" \")\n",
    "        num4 +=1\n",
    "    print()\n"
   ]
  },
  {
   "cell_type": "markdown",
   "id": "5206b82f-5c10-4bb3-aaf1-c20c66b625c3",
   "metadata": {},
   "source": [
    "# for with break statement"
   ]
  },
  {
   "cell_type": "code",
   "execution_count": 125,
   "id": "57718ed2-e458-4042-8649-0b1f4ab00db1",
   "metadata": {},
   "outputs": [
    {
     "name": "stdout",
     "output_type": "stream",
     "text": [
      "s\n",
      "t\n",
      "r\n",
      "the end\n"
     ]
    }
   ],
   "source": [
    "for val in \"string\":\n",
    "    if val ==\"i\":\n",
    "       break\n",
    "    print(val)\n",
    "print(\"the end\")"
   ]
  },
  {
   "cell_type": "markdown",
   "id": "06aaa5fb-8b72-4100-9cba-41c5f17ce5c2",
   "metadata": {},
   "source": [
    "# for with continue statement"
   ]
  },
  {
   "cell_type": "code",
   "execution_count": 126,
   "id": "ecfea551-230c-4845-994a-4244e39f3609",
   "metadata": {},
   "outputs": [
    {
     "name": "stdout",
     "output_type": "stream",
     "text": [
      "1\n",
      "2\n",
      "3\n",
      "4\n",
      "6\n",
      "7\n"
     ]
    }
   ],
   "source": [
    "num5=[1,2,3,4,5,6,7]\n",
    "for val in num5:\n",
    "    if val%5==0:\n",
    "        continue\n",
    "    print(val)"
   ]
  },
  {
   "cell_type": "markdown",
   "id": "2c53e37a-d277-494c-afe9-7e3f9f3cfc74",
   "metadata": {},
   "source": [
    "# while loop"
   ]
  },
  {
   "cell_type": "markdown",
   "id": "8b2e8bea-7d33-44d5-9ff3-0370b25b6cbe",
   "metadata": {},
   "source": [
    "syntax\n",
    "      while<expression>:\n",
    "          <statement(s)>"
   ]
  },
  {
   "cell_type": "code",
   "execution_count": 1,
   "id": "25f23dd8-6a91-454d-93b8-c428c59d6284",
   "metadata": {},
   "outputs": [
    {
     "name": "stdin",
     "output_type": "stream",
     "text": [
      "enter the limit: 4\n"
     ]
    },
    {
     "name": "stdout",
     "output_type": "stream",
     "text": [
      "0\n",
      "1\n",
      "2\n",
      "3\n"
     ]
    }
   ],
   "source": [
    "n=int(input('enter the limit:'))\n",
    "i= 0\n",
    "while i < n:\n",
    "    print(i)\n",
    "    i +=1"
   ]
  },
  {
   "cell_type": "markdown",
   "id": "1451f992-d79a-4645-8e84-53e30c164fef",
   "metadata": {},
   "source": [
    "\n",
    "# while with break statement"
   ]
  },
  {
   "cell_type": "code",
   "execution_count": 10,
   "id": "5300a348-a5c6-43ce-92de-fc2c1f7fd911",
   "metadata": {},
   "outputs": [
    {
     "name": "stdout",
     "output_type": "stream",
     "text": [
      "0\n",
      "1\n",
      "2\n",
      "3\n",
      "4\n"
     ]
    }
   ],
   "source": [
    "count = 0\n",
    "while True:\n",
    "    print( count )\n",
    "    count +=1\n",
    "    if count==5:\n",
    "        break"
   ]
  },
  {
   "cell_type": "markdown",
   "id": "bec888cc-18fd-4396-a88f-b1072032b63f",
   "metadata": {},
   "source": [
    "# while with continue statement"
   ]
  },
  {
   "cell_type": "code",
   "execution_count": 23,
   "id": "8bc13999-b489-474f-9a1e-9df9bc90e279",
   "metadata": {},
   "outputs": [
    {
     "name": "stdout",
     "output_type": "stream",
     "text": [
      "1\n",
      "2\n",
      "4\n",
      "5\n",
      "6\n"
     ]
    }
   ],
   "source": [
    "i = 0\n",
    "while i < 6:\n",
    "    i += 1\n",
    "    if i == 3:\n",
    "       continue\n",
    "    print(i)"
   ]
  },
  {
   "cell_type": "code",
   "execution_count": 22,
   "id": "2dc6947b-3704-46fe-aaa1-9da36d0fe865",
   "metadata": {},
   "outputs": [
    {
     "name": "stdin",
     "output_type": "stream",
     "text": [
      "enter the limit: 10\n"
     ]
    },
    {
     "name": "stdout",
     "output_type": "stream",
     "text": [
      "0 1 1 2 3 5 8 "
     ]
    }
   ],
   "source": [
    "i=0\n",
    "j=1\n",
    "n = int(input('enter the limit:'))\n",
    "while i<n:\n",
    "    print(i,end= ' ')\n",
    "    i,j = j,i+j\n",
    "    "
   ]
  },
  {
   "cell_type": "markdown",
   "id": "aad6ac09-6cd4-4725-ab1b-ab129f4e3edd",
   "metadata": {},
   "source": [
    "# FUNCTIONS"
   ]
  },
  {
   "cell_type": "code",
   "execution_count": null,
   "id": "32443ce9-541d-455d-ab50-8298467d9605",
   "metadata": {},
   "outputs": [],
   "source": [
    "def <function_name>(parameters):\n",
    "    Doc string\n",
    "    <statement(s)>"
   ]
  },
  {
   "cell_type": "code",
   "execution_count": 32,
   "id": "f156237d-d7e5-4b71-8baa-12fb41850a1b",
   "metadata": {},
   "outputs": [],
   "source": [
    "def user(name,age):\n",
    "    print(f'my name is {name} i am {age} years old')\n",
    "    "
   ]
  },
  {
   "cell_type": "code",
   "execution_count": 33,
   "id": "ae32c235-27a2-42a9-b7c6-0b0828c6c9cf",
   "metadata": {},
   "outputs": [
    {
     "name": "stdin",
     "output_type": "stream",
     "text": [
      "enter your name: kaviya\n",
      "enter your age: 20\n"
     ]
    },
    {
     "name": "stdout",
     "output_type": "stream",
     "text": [
      "my name is kaviya i am 20 years old\n"
     ]
    }
   ],
   "source": [
    "    n = input('enter your name:')\n",
    "    a = int(input('enter your age:'))\n",
    "    user(n,a)"
   ]
  },
  {
   "cell_type": "code",
   "execution_count": 41,
   "id": "015cc4da-67a6-4815-b7a7-b4a188ce02bc",
   "metadata": {},
   "outputs": [],
   "source": [
    "def filter_even(number_list):\n",
    "    result_list = []\n",
    "    for number in number_list:\n",
    "        if number % 2 == 0:\n",
    "            result_list.append(number)\n",
    "    return result_list    "
   ]
  },
  {
   "cell_type": "code",
   "execution_count": 43,
   "id": "b574fd7b-59f5-4a13-81d7-65097935b2e7",
   "metadata": {},
   "outputs": [
    {
     "data": {
      "text/plain": [
       "[10, 20, 28]"
      ]
     },
     "execution_count": 43,
     "metadata": {},
     "output_type": "execute_result"
    }
   ],
   "source": [
    "even_list = filter_even([1,2,3,4,5,6,7])\n",
    "even_list\n",
    "even_list1 = filter_even([10,20,28,19,17])\n",
    "even_list1"
   ]
  },
  {
   "cell_type": "code",
   "execution_count": 61,
   "id": "8edc15df-1e81-4b3a-9bd5-36c0d1f38da4",
   "metadata": {},
   "outputs": [],
   "source": [
    "def find_duplicate(number_list):\n",
    "    res = []\n",
    "    for num in list:\n",
    "        if num not in res:\n",
    "            res.append(num)\n",
    "    return res"
   ]
  },
  {
   "cell_type": "code",
   "execution_count": 62,
   "id": "18bdd9dc-f79b-4c76-bbfd-2846fa2b223a",
   "metadata": {},
   "outputs": [
    {
     "ename": "TypeError",
     "evalue": "'type' object is not iterable",
     "output_type": "error",
     "traceback": [
      "\u001b[1;31m---------------------------------------------------------------------------\u001b[0m",
      "\u001b[1;31mTypeError\u001b[0m                                 Traceback (most recent call last)",
      "Cell \u001b[1;32mIn[62], line 1\u001b[0m\n\u001b[1;32m----> 1\u001b[0m duplicate_list \u001b[38;5;241m=\u001b[39m\u001b[43mfind_duplicate\u001b[49m\u001b[43m(\u001b[49m\u001b[43m[\u001b[49m\u001b[38;5;241;43m1\u001b[39;49m\u001b[43m,\u001b[49m\u001b[38;5;241;43m1\u001b[39;49m\u001b[43m,\u001b[49m\u001b[38;5;241;43m3\u001b[39;49m\u001b[43m,\u001b[49m\u001b[38;5;241;43m2\u001b[39;49m\u001b[43m,\u001b[49m\u001b[38;5;241;43m5\u001b[39;49m\u001b[43m,\u001b[49m\u001b[38;5;241;43m4\u001b[39;49m\u001b[43m,\u001b[49m\u001b[38;5;241;43m6\u001b[39;49m\u001b[43m,\u001b[49m\u001b[38;5;241;43m6\u001b[39;49m\u001b[43m]\u001b[49m\u001b[43m)\u001b[49m\n",
      "Cell \u001b[1;32mIn[61], line 3\u001b[0m, in \u001b[0;36mfind_duplicate\u001b[1;34m(number_list)\u001b[0m\n\u001b[0;32m      1\u001b[0m \u001b[38;5;28;01mdef\u001b[39;00m \u001b[38;5;21mfind_duplicate\u001b[39m(number_list):\n\u001b[0;32m      2\u001b[0m     res \u001b[38;5;241m=\u001b[39m []\n\u001b[1;32m----> 3\u001b[0m     \u001b[38;5;28;01mfor\u001b[39;00m num \u001b[38;5;129;01min\u001b[39;00m \u001b[38;5;28mlist\u001b[39m:\n\u001b[0;32m      4\u001b[0m         \u001b[38;5;28;01mif\u001b[39;00m num \u001b[38;5;129;01mnot\u001b[39;00m \u001b[38;5;129;01min\u001b[39;00m res:\n\u001b[0;32m      5\u001b[0m             res\u001b[38;5;241m.\u001b[39mappend(num)\n",
      "\u001b[1;31mTypeError\u001b[0m: 'type' object is not iterable"
     ]
    }
   ],
   "source": [
    "duplicate_list =find_duplicate([1,1,3,2,5,4,6,6])"
   ]
  },
  {
   "cell_type": "code",
   "execution_count": null,
   "id": "c0065e9f-5cb6-48cb-9c9e-2043b3ee1584",
   "metadata": {},
   "outputs": [],
   "source": []
  }
 ],
 "metadata": {
  "kernelspec": {
   "display_name": "Python 3 (ipykernel)",
   "language": "python",
   "name": "python3"
  },
  "language_info": {
   "codemirror_mode": {
    "name": "ipython",
    "version": 3
   },
   "file_extension": ".py",
   "mimetype": "text/x-python",
   "name": "python",
   "nbconvert_exporter": "python",
   "pygments_lexer": "ipython3",
   "version": "3.9.19"
  }
 },
 "nbformat": 4,
 "nbformat_minor": 5
}
